{
 "cells": [
  {
   "cell_type": "code",
   "execution_count": 1,
   "id": "dbad4f4c",
   "metadata": {},
   "outputs": [],
   "source": [
    "import numpy as np\n",
    "import matplotlib.pyplot as plt\n",
    "import matplotlib\n",
    "import random as random\n",
    "from copy import deepcopy\n",
    "from tqdm import tqdm\n",
    "from random import randint\n",
    "matplotlib.rc(\"font\", family=\"KaiTi\")\n",
    "matplotlib.rcParams[\"axes.unicode_minus\"] = False"
   ]
  },
  {
   "cell_type": "code",
   "execution_count": 2,
   "id": "a600ad32",
   "metadata": {},
   "outputs": [],
   "source": [
    "# Calculate the collison for each or the whole population\n",
    "def precollision(swarm):\n",
    "    res = 0\n",
    "    for i, val in enumerate(swarm[:-1]):\n",
    "        flag_d = flag_u = 0\n",
    "        for j, each in enumerate(swarm[i+1:]):\n",
    "            if each == val + j + 1 and flag_d == 0:\n",
    "                res += 1\n",
    "                flag_d = 1\n",
    "            if val == each + j + 1 and flag_u == 0:\n",
    "                res += 1\n",
    "                flag_u = 1\n",
    "            if flag_u + flag_d == 2:\n",
    "                break\n",
    "    return res\n",
    "\n",
    "def collision(swarms):\n",
    "    fitness = []\n",
    "    opt_res = float('inf')\n",
    "    opr_index = -1\n",
    "    for i, each in enumerate(swarms):\n",
    "        fitness.append(precollision(each))\n",
    "        if fitness[-1] <= opt_res:\n",
    "            opt_res = fitness[-1]\n",
    "            opt_index = i\n",
    "    return (fitness, opt_res, opt_index)"
   ]
  },
  {
   "cell_type": "code",
   "execution_count": 3,
   "id": "90a18e90",
   "metadata": {},
   "outputs": [],
   "source": [
    "# Swarm Refinement Algorithm, refer to paper or experimental report for details\n",
    "def preSwarm_refinement(n):\n",
    "    lst = list(range(n))\n",
    "    random.shuffle(lst)\n",
    "    queen = []\n",
    "    queen.append(lst[0])\n",
    "    del lst[0]\n",
    "    count = 0\n",
    "    while len(lst) != 0 and count <= n*n:\n",
    "        if queen[-1] == lst[0] + 1 or queen[-1] == lst[0] - 1:\n",
    "            random.shuffle(lst)\n",
    "        else:\n",
    "            queen.append(lst[0])\n",
    "            del lst[0]\n",
    "        count += 1\n",
    "    if len(lst) != 0:\n",
    "        queen += lst\n",
    "    return queen\n",
    "\n",
    "def Swarm_refinement(n, nums):\n",
    "    swarms = []\n",
    "    for i in range(nums):\n",
    "        swarms.append(preSwarm_refinement(n))\n",
    "    return swarms"
   ]
  },
  {
   "cell_type": "code",
   "execution_count": 4,
   "id": "b7098ab2",
   "metadata": {
    "scrolled": true
   },
   "outputs": [
    {
     "name": "stdout",
     "output_type": "stream",
     "text": [
      "Initiallization\n",
      "[3, 5, 2, 4, 7, 1, 6, 0] , fitness =  4 , velocity =  [4, 6, 2, 5, 7, 0, 1, 3]\n",
      "[5, 3, 6, 2, 4, 7, 1, 0] , fitness =  4 , velocity =  [7, 2, 6, 3, 4, 5, 1, 0]\n",
      "[7, 1, 3, 0, 4, 6, 2, 5] , fitness =  3 , velocity =  [3, 7, 4, 1, 6, 0, 5, 2]\n",
      "[2, 7, 1, 4, 0, 3, 5, 6] , fitness =  3 , velocity =  [5, 4, 6, 7, 3, 1, 2, 0]\n",
      "[1, 7, 2, 4, 6, 0, 5, 3] , fitness =  2 , velocity =  [2, 0, 5, 4, 3, 7, 1, 6]\n",
      "[0, 2, 7, 4, 6, 1, 5, 3] , fitness =  3 , velocity =  [3, 1, 2, 0, 4, 7, 5, 6]\n",
      "[5, 1, 4, 2, 6, 3, 0, 7] , fitness =  4 , velocity =  [7, 4, 1, 6, 5, 3, 2, 0]\n",
      "[1, 4, 6, 3, 0, 2, 7, 5] , fitness =  1 , velocity =  [3, 0, 2, 5, 1, 4, 7, 6]\n",
      "[7, 0, 3, 1, 6, 4, 2, 5] , fitness =  2 , velocity =  [5, 7, 4, 6, 0, 2, 3, 1]\n",
      "[5, 1, 6, 4, 0, 7, 3, 2] , fitness =  1 , velocity =  [2, 7, 0, 5, 4, 3, 6, 1]\n",
      "[7, 2, 4, 6, 1, 3, 0, 5] , fitness =  2 , velocity =  [1, 5, 3, 7, 2, 0, 6, 4]\n",
      "[1, 4, 2, 0, 5, 3, 6, 7] , fitness =  3 , velocity =  [5, 3, 6, 7, 0, 1, 2, 4]\n",
      "[4, 7, 0, 3, 5, 2, 6, 1] , fitness =  2 , velocity =  [6, 4, 0, 3, 5, 1, 7, 2]\n",
      "[1, 4, 7, 3, 5, 2, 0, 6] , fitness =  3 , velocity =  [7, 4, 3, 2, 5, 0, 1, 6]\n",
      "[6, 0, 3, 5, 2, 4, 1, 7] , fitness =  2 , velocity =  [1, 0, 2, 7, 3, 4, 5, 6]\n",
      "[3, 5, 2, 6, 4, 1, 7, 0] , fitness =  3 , velocity =  [1, 3, 5, 2, 6, 7, 0, 4]\n",
      "[4, 2, 5, 1, 7, 3, 6, 0] , fitness =  4 , velocity =  [3, 5, 7, 4, 6, 1, 0, 2]\n",
      "[4, 7, 3, 1, 6, 0, 5, 2] , fitness =  3 , velocity =  [0, 1, 7, 6, 5, 2, 3, 4]\n",
      "[1, 5, 7, 3, 6, 4, 2, 0] , fitness =  2 , velocity =  [4, 5, 0, 7, 1, 6, 2, 3]\n",
      "[4, 0, 5, 2, 7, 1, 3, 6] , fitness =  3 , velocity =  [6, 5, 4, 7, 2, 0, 1, 3]\n"
     ]
    },
    {
     "name": "stderr",
     "output_type": "stream",
     "text": [
      "100%|█████████████████████████████████████████████████████████████████████████████████| 50/50 [00:00<00:00, 129.27it/s]\n"
     ]
    }
   ],
   "source": [
    "#Initialization\n",
    "N = 20 # Number of Particles\n",
    "d = 8 # Size of n*n chessboard\n",
    "I = 50 # iterations\n",
    "\n",
    "c1 = 0.15\n",
    "c2 = 0.15\n",
    "w = 1 - c1 - c2\n",
    "\n",
    "#Metrics\n",
    "avg = []\n",
    "best = []\n",
    "\n",
    "velocity = []\n",
    "for i in range(N):\n",
    "    lst = list(range(d))\n",
    "    random.shuffle(lst)\n",
    "    velocity.append(lst)\n",
    "    \n",
    "# Swarm refinement();\n",
    "queens = Swarm_refinement(d, N)\n",
    "\n",
    "fitness = []\n",
    "opt_res = float('inf')\n",
    "opt_index = -1\n",
    "\n",
    "fitness, opt_res, opt_index = collision(queens)\n",
    "best.append(opt_res)\n",
    "\n",
    "print('Initiallization')\n",
    "for queen, fit, vel in zip(queens, fitness, velocity):\n",
    "    print(queen, ', fitness = ', fit, ', velocity = ', vel)\n",
    "avg.append(np.mean(fitness))\n",
    "\n",
    "# pbest\n",
    "pbest = deepcopy(queens)\n",
    "gbest = deepcopy(queens[opt_index])\n",
    "#print('gbest = ', gbest)\n",
    "    \n",
    "# iteration\n",
    "for iterations in tqdm(range(I)):\n",
    "    \n",
    "    # Update velocity\n",
    "    for i in range(N):\n",
    "        for j in range(d):\n",
    "            velocity[i][j] = abs(round(w * velocity[i][j] + c1 * np.random.rand() * (pbest[i][j] - queens[i][j]) + c2 * np.random.rand() * (gbest[j] - queens[i][j]), 2))\n",
    "    \n",
    "    ggbest = np.array(gbest)\n",
    "    \n",
    "    #Swapping\n",
    "    for i in range(N):\n",
    "        queen = np.array(queens[i])\n",
    "        vel = np.array(velocity[i])\n",
    "        mask = np.array(vel) < random.uniform(min(velocity[i]), max(velocity[i]))\n",
    "\n",
    "        gbest_mask = ggbest[mask]\n",
    "        vel_mask = vel[mask]\n",
    "        queen_mask = queen[mask]\n",
    "        seq = np.argsort(-vel_mask)\n",
    "        \n",
    "        for j in seq:\n",
    "            if queen_mask[j] != gbest_mask[j]:\n",
    "                pre = precollision(list(queen))\n",
    "                iq = np.where(queen == queen_mask[j])\n",
    "                ib = np.where(queen == gbest_mask[j])\n",
    "                queen[iq], queen[ib] = queen[ib], queen[iq]\n",
    "                cur = precollision(list(queen))\n",
    "                if pre <= cur:\n",
    "                    queen[iq], queen[ib] = queen[ib], queen[iq]\n",
    "\n",
    "        queens[i] = list(queen)\n",
    "        \n",
    "        # Update pbest\n",
    "        if precollision(queens[i]) < fitness[i]:\n",
    "            pbest[i] = deepcopy(queens[i])\n",
    "    \n",
    "    # Record the metrics\n",
    "    fitness, opt_res, opt_index = collision(queens)\n",
    "    avg.append(np.mean(fitness))\n",
    "    best.append(opt_res)\n",
    "    \n",
    "    # Update gbest\n",
    "    if opt_res <= precollision(gbest):\n",
    "        gbest = deepcopy(queens[opt_index])"
   ]
  },
  {
   "cell_type": "code",
   "execution_count": 5,
   "id": "0f825f3d",
   "metadata": {},
   "outputs": [
    {
     "name": "stdout",
     "output_type": "stream",
     "text": [
      "0.85\n",
      "0\n"
     ]
    }
   ],
   "source": [
    "print(avg[-1])\n",
    "print(best[-1])"
   ]
  },
  {
   "cell_type": "code",
   "execution_count": 6,
   "id": "efff9b17",
   "metadata": {
    "scrolled": true
   },
   "outputs": [
    {
     "name": "stdout",
     "output_type": "stream",
     "text": [
      "[3, 5, 0, 4, 1, 7, 2, 6] , fitness =  0 , velocity =  [0.23, 0.59, 0.8, 0.49, 1.02, 0.14, 0.47, 0.48]\n",
      "[4, 1, 6, 2, 5, 7, 3, 0] , fitness =  2 , velocity =  [0.01, 0.83, 0.01, 0.21, 0.28, 0.4, 0.52, 0.67]\n",
      "[7, 1, 3, 0, 6, 4, 2, 5] , fitness =  0 , velocity =  [0.02, 2.01, 0.01, 0.01, 0.01, 0.3, 1.02, 0.4]\n",
      "[6, 1, 7, 4, 0, 3, 5, 2] , fitness =  1 , velocity =  [0.03, 1.17, 0.08, 0.06, 1.13, 0.13, 0.01, 0.01]\n",
      "[1, 7, 2, 4, 6, 0, 3, 5] , fitness =  1 , velocity =  [0.97, 0.01, 0.28, 0.0, 0.01, 0.22, 0.63, 0.03]\n",
      "[0, 7, 2, 4, 6, 1, 3, 5] , fitness =  1 , velocity =  [0.74, 0.01, 0.26, 0.04, 0.01, 0.01, 0.34, 0.2]\n",
      "[4, 1, 5, 0, 6, 3, 7, 2] , fitness =  0 , velocity =  [0.01, 1.37, 0.08, 0.01, 0.01, 0.11, 0.09, 0.01]\n",
      "[1, 4, 6, 3, 0, 2, 7, 5] , fitness =  1 , velocity =  [0.8, 0.35, 0.3, 0.01, 1.28, 0.12, 0.05, 0.14]\n",
      "[7, 1, 3, 0, 6, 4, 2, 5] , fitness =  0 , velocity =  [0.13, 1.69, 0.01, 0.01, 0.01, 0.25, 0.89, 0.31]\n",
      "[3, 1, 6, 4, 0, 7, 5, 2] , fitness =  0 , velocity =  [0.32, 1.56, 0.22, 0.23, 1.55, 0.31, 0.01, 0.01]\n",
      "[7, 2, 4, 6, 1, 3, 5, 0] , fitness =  1 , velocity =  [0.21, 1.62, 0.04, 0.49, 1.35, 0.12, 0.01, 0.48]\n",
      "[1, 4, 2, 0, 6, 3, 5, 7] , fitness =  1 , velocity =  [0.64, 0.77, 0.19, 0.01, 0.01, 0.23, 0.0, 0.55]\n",
      "[4, 7, 0, 3, 6, 2, 5, 1] , fitness =  1 , velocity =  [0.01, 0.01, 0.71, 0.04, 0.01, 0.12, 0.01, 0.33]\n",
      "[1, 4, 7, 3, 0, 2, 5, 6] , fitness =  1 , velocity =  [0.84, 0.5, 0.4, 0.23, 1.24, 0.12, 0.01, 0.05]\n",
      "[6, 2, 3, 5, 0, 4, 1, 7] , fitness =  1 , velocity =  [0.07, 1.74, 0.01, 0.37, 1.56, 0.1, 1.04, 0.14]\n",
      "[5, 3, 0, 6, 4, 1, 7, 2] , fitness =  1 , velocity =  [0.1, 1.11, 0.75, 0.76, 0.41, 0.01, 0.11, 0.01]\n",
      "[5, 1, 4, 0, 7, 3, 6, 2] , fitness =  1 , velocity =  [0.06, 1.35, 0.03, 0.01, 0.04, 0.1, 0.06, 0.01]\n",
      "[4, 7, 3, 0, 6, 1, 5, 2] , fitness =  0 , velocity =  [0.01, 0.01, 0.01, 0.01, 0.01, 0.01, 0.01, 0.01]\n",
      "[1, 5, 7, 3, 6, 4, 2, 0] , fitness =  2 , velocity =  [0.49, 0.34, 0.42, 0.0, 0.01, 0.14, 0.91, 0.73]\n",
      "[4, 0, 6, 2, 7, 1, 3, 5] , fitness =  2 , velocity =  [0.01, 1.82, 0.18, 0.03, 0.01, 0.01, 0.26, 0.35]\n",
      "Final gbest =  [4, 7, 3, 0, 6, 1, 5, 2]\n"
     ]
    }
   ],
   "source": [
    "for queen, fit, vel in zip(queens, fitness, velocity):\n",
    "    print(queen, ', fitness = ', fit, ', velocity = ', vel)\n",
    "#The Results\n",
    "print('Final gbest = ', gbest)"
   ]
  },
  {
   "cell_type": "code",
   "execution_count": 7,
   "id": "f206e7fb",
   "metadata": {},
   "outputs": [
    {
     "data": {
      "text/plain": [
       "<matplotlib.legend.Legend at 0x1677db807f0>"
      ]
     },
     "execution_count": 7,
     "metadata": {},
     "output_type": "execute_result"
    },
    {
     "data": {
      "image/png": "[encoded data removed]",
      "text/plain": [
       "<Figure size 900x600 with 1 Axes>"
      ]
     },
     "metadata": {
      "needs_background": "light"
     },
     "output_type": "display_data"
    }
   ],
   "source": [
    "plt.figure(dpi = 150)\n",
    "plt.plot(np.arange(I+1), avg, 'b.')\n",
    "plt.plot(np.arange(I+1), best, 'r.')\n",
    "plt.xlabel('Iterations')\n",
    "plt.ylabel('Fitness')\n",
    "plt.legend(['Average', 'Best'], fontsize = 20, markerscale = 5, handlelength =3,handleheight = 1.5)"
   ]
  }
 ],
 "metadata": {
  "kernelspec": {
   "display_name": "Python 3 (ipykernel)",
   "language": "python",
   "name": "python3"
  },
  "language_info": {
   "codemirror_mode": {
    "name": "ipython",
    "version": 3
   },
   "file_extension": ".py",
   "mimetype": "text/x-python",
   "name": "python",
   "nbconvert_exporter": "python",
   "pygments_lexer": "ipython3",
   "version": "3.9.12"
  }
 },
 "nbformat": 4,
 "nbformat_minor": 5
}
